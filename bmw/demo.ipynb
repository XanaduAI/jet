{
 "cells": [
  {
   "cell_type": "markdown",
   "metadata": {},
   "source": [
    "1. Create a subclass of `jet.Gate` which represents a fully-parameterized unitary."
   ]
  },
  {
   "cell_type": "code",
   "execution_count": 55,
   "metadata": {},
   "outputs": [],
   "source": [
    "import jet\n",
    "import numpy as np\n",
    "\n",
    "import UnitaryPreperation\n",
    "\n",
    "class Unitary(jet.Gate):\n",
    "    \"\"\"Unitary represents an arbitrary unitary gate.\n",
    "\n",
    "    Args:\n",
    "        num_wires (int): Number of wires the gate is applied to.\n",
    "        params (array): Matrix of gate parameters.\n",
    "    \"\"\"\n",
    "\n",
    "    def __init__(self, num_wires: int, params: np.ndarray):\n",
    "        super().__init__(name=\"Unitary\", num_wires=num_wires, params=params)\n",
    "\n",
    "    def _data(self) -> np.ndarray:\n",
    "        return UnitaryPreperation.param_unitary(dim=2**self.num_wires, params=self.params)"
   ]
  },
  {
   "cell_type": "markdown",
   "metadata": {},
   "source": [
    "2. Define the parameters of the circuit using the code in `TensorNetworks_QML_final.ipynb`."
   ]
  },
  {
   "cell_type": "code",
   "execution_count": 56,
   "metadata": {},
   "outputs": [],
   "source": [
    "# Defining the parameters of the circuit\n",
    "depth = 3\n",
    "n_qubits = 16\n",
    "loc = 4\n",
    "\n",
    "# depth = 4\n",
    "# n_qubits = 64\n",
    "# loc = 8\n",
    "\n",
    "num_gates = 2**depth-1\n",
    "\n",
    "# Generating random parameters for the gates\n",
    "params = []\n",
    "for i in range(num_gates):\n",
    "    params.append(np.random.rand(2**loc, 2**loc))"
   ]
  },
  {
   "cell_type": "markdown",
   "metadata": {},
   "source": [
    "3. Append the gates to a `Circuit`."
   ]
  },
  {
   "cell_type": "code",
   "execution_count": 57,
   "metadata": {},
   "outputs": [],
   "source": [
    "circuit = jet.Circuit(dim=2, num_wires=n_qubits)\n",
    "\n",
    "# Qubits are initialized to |0> but we can easily change this. For example:\n",
    "# for op in circuit.operations:\n",
    "    # op.part._state_vector = np.array([0, 1], dtype=np.complex128)\n",
    "\n",
    "param_index = 0\n",
    "for layer in UnitaryPreperation.compute_indices(loc, depth):\n",
    "    for wire_ids in layer:\n",
    "        gate = Unitary(num_wires=loc, params=params[param_index])\n",
    "        circuit.append_gate(gate, wire_ids=wire_ids)\n",
    "        param_index += 1\n",
    "\n",
    "# Close the circuit with an observable.\n",
    "observable = [jet.Operation(part=jet.PauliZ(), wire_ids=[n_qubits - 1])]\n",
    "circuit.observe(observable)"
   ]
  },
  {
   "cell_type": "markdown",
   "metadata": {},
   "source": [
    "4. Convert the `Circuit` into a `TensorNetwork`."
   ]
  },
  {
   "cell_type": "code",
   "execution_count": 58,
   "metadata": {},
   "outputs": [
    {
     "name": "stdout",
     "output_type": "stream",
     "text": [
      "Loaded tensor network with 159 tensors and 305 indices.\n"
     ]
    }
   ],
   "source": [
    "# Currently, Jet supports 64-bit and 128-bit complex data types.\n",
    "dtype = np.dtype(np.complex64)\n",
    "\n",
    "tn = circuit.tensor_network(dtype=dtype)\n",
    "\n",
    "print(f\"Loaded tensor network with {tn.num_tensors} tensors and {tn.num_indices} indices.\")"
   ]
  },
  {
   "cell_type": "markdown",
   "metadata": {},
   "source": [
    "5. Serialize the `TensorNetwork` to JSON (if desired)."
   ]
  },
  {
   "cell_type": "code",
   "execution_count": 59,
   "metadata": {},
   "outputs": [
    {
     "name": "stdout",
     "output_type": "stream",
     "text": [
      "Created tensor network file 'tnf.json'.\n"
     ]
    }
   ],
   "source": [
    "tnf_str = jet.TensorNetworkSerializer(dtype=dtype)(tn)\n",
    "\n",
    "filename = \"tnf.json\"\n",
    "with open(filename, \"w\") as f:\n",
    "    f.write(tnf_str)\n",
    "\n",
    "print(f\"Created tensor network file '{filename}'.\")"
   ]
  },
  {
   "cell_type": "markdown",
   "metadata": {},
   "source": [
    "6. Find a suitable contraction path and wrap it in a `PathInfo` instance."
   ]
  },
  {
   "cell_type": "code",
   "execution_count": 60,
   "metadata": {},
   "outputs": [
    {
     "name": "stdout",
     "output_type": "stream",
     "text": [
      "Loaded contraction path with 317 steps that uses 30.4MB of memory.\n"
     ]
    }
   ],
   "source": [
    "import random\n",
    "\n",
    "def sample_contraction_path(tn: jet.TensorNetworkType) -> jet.PathInfo:\n",
    "    path = []\n",
    "\n",
    "    # Caching the index-to-edge map improves performance by 50x.\n",
    "    index_to_edge_map = tn.index_to_edge_map\n",
    "\n",
    "    # Construct a graph that associates nodes with its neighbouring in the TN.\n",
    "    graph = {}\n",
    "    for node in tn.nodes:\n",
    "        graph[node.id] = set()\n",
    "        for index in node.indices:\n",
    "            node_ids = index_to_edge_map[index].node_ids\n",
    "            graph[node.id].update(node_ids)\n",
    "        graph[node.id].remove(node.id)\n",
    "\n",
    "    # Iteratively contract a random edge from the graph.\n",
    "    while len(graph) > 1:\n",
    "        node_id_1 = random.choice(tuple(graph))\n",
    "        node_id_2 = random.choice(tuple(graph[node_id_1]))\n",
    "        path.append((node_id_1, node_id_2))\n",
    "\n",
    "        node_id_3 = max(graph) + 1\n",
    "        graph[node_id_3] = (graph[node_id_1] | graph[node_id_2]) - {node_id_1, node_id_2}\n",
    "\n",
    "        for node_id in graph[node_id_1]:\n",
    "            if node_id != node_id_2:\n",
    "                graph[node_id].remove(node_id_1)\n",
    "                graph[node_id].add(node_id_3)\n",
    "\n",
    "        for node_id in graph[node_id_2]:\n",
    "            if node_id != node_id_1:\n",
    "                graph[node_id].remove(node_id_2)\n",
    "                graph[node_id].add(node_id_3)\n",
    "\n",
    "        del graph[node_id_1]\n",
    "        del graph[node_id_2]\n",
    "\n",
    "    return jet.PathInfo(tn=tn, path=path)\n",
    "\n",
    "def find_contraction_path(tn: jet.TensorNetworkType, samples: int) -> jet.PathInfo:\n",
    "    paths = (sample_contraction_path(tn) for _ in range(samples))\n",
    "    return min(paths, key=lambda path: path.total_flops())\n",
    "\n",
    "path_info = find_contraction_path(tn=tn, samples=100)\n",
    "\n",
    "# Precomputed path for 8x8 circuit using CoTenGra.\n",
    "# path_info = jet.PathInfo(tn=tn, path=[(92, 114), (111, 159), (117, 160), (116, 161), (118, 162), (112, 163), (113, 164), (115, 165), (22, 66), (16, 167), (21, 168), (18, 169), (19, 170), (20, 171), (17, 172), (23, 173), (166, 174), (85, 175), (31, 67), (30, 177), (29, 178), (25, 179), (28, 180), (26, 181), (24, 182), (27, 183), (91, 123), (125, 185), (124, 186), (120, 187), (121, 188), (119, 189), (122, 190), (126, 191), (184, 192), (73, 193), (176, 194), (82, 195), (0, 64), (4, 197), (5, 198), (6, 199), (1, 200), (3, 201), (7, 202), (2, 203), (94, 95), (101, 205), (96, 206), (97, 207), (98, 208), (99, 209), (102, 210), (100, 211), (204, 212), (72, 213), (93, 105), (108, 215), (109, 216), (107, 217), (103, 218), (106, 219), (110, 220), (104, 221), (12, 65), (15, 223), (13, 224), (10, 225), (8, 226), (9, 227), (11, 228), (14, 229), (222, 230), (86, 231), (214, 232), (196, 233), (76, 234), (80, 235), (78, 236), (77, 237), (90, 130), (128, 239), (131, 240), (129, 241), (133, 242), (127, 243), (134, 244), (132, 245), (35, 68), (36, 247), (38, 248), (37, 249), (34, 250), (32, 251), (39, 252), (33, 253), (246, 254), (84, 255), (42, 69), (41, 257), (45, 258), (46, 259), (43, 260), (47, 261), (44, 262), (40, 263), (89, 135), (139, 265), (138, 266), (142, 267), (140, 268), (141, 269), (137, 270), (136, 271), (264, 272), (256, 273), (74, 274), (81, 275), (238, 276), (61, 71), (58, 278), (59, 279), (60, 280), (63, 281), (57, 282), (56, 283), (62, 284), (79, 285), (87, 157), (154, 287), (152, 288), (158, 289), (155, 290), (153, 291), (151, 292), (156, 293), (286, 294), (75, 295), (277, 296), (83, 297), (88, 143), (144, 299), (147, 300), (150, 301), (146, 302), (145, 303), (149, 304), (148, 305), (298, 306), (70, 307), (55, 308), (48, 309), (51, 52), (54, 311), (49, 53), (50, 313), (312, 314), (310, 315)])\n",
    "\n",
    "# The memory reported by a contraction path assumes single-byte tensor elements.\n",
    "num_steps = len(path_info.steps)\n",
    "num_bytes = int(path_info.total_memory()) * dtype.itemsize\n",
    "print(f\"Loaded contraction path with {num_steps} steps that uses {num_bytes / 10**6:.1f}MB of memory.\")"
   ]
  },
  {
   "cell_type": "markdown",
   "metadata": {},
   "source": [
    "7. Contract the `TensorNetwork` using the task-based contractor."
   ]
  },
  {
   "cell_type": "code",
   "execution_count": 61,
   "metadata": {},
   "outputs": [
    {
     "name": "stdout",
     "output_type": "stream",
     "text": [
      "Starting to contract tensor network. This can take a while...\n",
      "Got contraction result (0.023864932358264923+1.469743438065052e-09j) in 0.040s.\n"
     ]
    }
   ],
   "source": [
    "import timeit\n",
    "\n",
    "tbc = jet.TaskBasedContractor(dtype=dtype)\n",
    "tbc.add_contraction_tasks(tn=tn, path_info=path_info)\n",
    "tbc.add_deletion_tasks()\n",
    "\n",
    "print(\"Starting to contract tensor network. This can take a while...\")\n",
    "t0 = timeit.default_timer()\n",
    "tbc.contract()\n",
    "t1 = timeit.default_timer()\n",
    "\n",
    "result = tbc.results[0].scalar\n",
    "\n",
    "# Display the contraction result and duration.\n",
    "print(f\"Got contraction result {result} in {t1 - t0:.3f}s.\")"
   ]
  }
 ],
 "metadata": {
  "interpreter": {
   "hash": "36cf16204b8548560b1c020c4e8fb5b57f0e4c58016f52f2d4be01e192833930"
  },
  "kernelspec": {
   "display_name": "Python 3.8.5 64-bit ('venv': venv)",
   "language": "python",
   "name": "python385jvsc74a57bd0c856ed98f014137afd78da4e77750f579da1f3ba5b9b05e858637f0ba1815dbc"
  },
  "language_info": {
   "name": "python",
   "version": ""
  },
  "orig_nbformat": 4
 },
 "nbformat": 4,
 "nbformat_minor": 2
}